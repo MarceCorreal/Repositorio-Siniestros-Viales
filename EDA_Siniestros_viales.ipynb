{
 "cells": [
  {
   "cell_type": "markdown",
   "metadata": {},
   "source": [
    "Lo primero que haré es abrir convertir los doas archivos csv en data frame y unirlos en uno solo por que si bien luego lo enviaré a mysql, que en teoria es relacional la información es totalmente complementaria"
   ]
  },
  {
   "cell_type": "code",
   "execution_count": 1,
   "metadata": {},
   "outputs": [],
   "source": [
    "import pandas as pd"
   ]
  },
  {
   "cell_type": "code",
   "execution_count": 2,
   "metadata": {},
   "outputs": [
    {
     "name": "stdout",
     "output_type": "stream",
     "text": [
      "Requirement already satisfied: sqlalchemy in c:\\users\\usuario\\appdata\\local\\programs\\python\\python312\\lib\\site-packages (2.0.25)\n",
      "Requirement already satisfied: typing-extensions>=4.6.0 in c:\\users\\usuario\\appdata\\local\\programs\\python\\python312\\lib\\site-packages (from sqlalchemy) (4.9.0)\n",
      "Requirement already satisfied: greenlet!=0.4.17 in c:\\users\\usuario\\appdata\\local\\programs\\python\\python312\\lib\\site-packages (from sqlalchemy) (3.0.3)\n",
      "Note: you may need to restart the kernel to use updated packages.\n"
     ]
    }
   ],
   "source": [
    "pip install sqlalchemy"
   ]
  },
  {
   "cell_type": "code",
   "execution_count": null,
   "metadata": {},
   "outputs": [],
   "source": [
    "pip install pandas mysql-connector-python"
   ]
  },
  {
   "cell_type": "code",
   "execution_count": 5,
   "metadata": {},
   "outputs": [],
   "source": [
    "from sqlalchemy import create_engine"
   ]
  },
  {
   "cell_type": "code",
   "execution_count": 6,
   "metadata": {},
   "outputs": [],
   "source": [
    "import mysql.connector"
   ]
  },
  {
   "cell_type": "code",
   "execution_count": 7,
   "metadata": {},
   "outputs": [],
   "source": [
    "# Este código se usa para poder visualizar todas las filas de un data frame muy largo\n",
    "# pd.set_option('display.max_rows', None)\n",
    "pd.set_option('display.max_columns', 30)"
   ]
  },
  {
   "cell_type": "code",
   "execution_count": null,
   "metadata": {},
   "outputs": [],
   "source": [
    "# Leo y visualizo df_hechos con la información original\n",
    "\n",
    "df_hechos = pd.read_csv('hechos.csv', sep=';')\n",
    "df_hechos"
   ]
  },
  {
   "cell_type": "code",
   "execution_count": null,
   "metadata": {},
   "outputs": [],
   "source": [
    "df_hechos.info()\n",
    "# Se puede verificar que este df tiene 20 filas"
   ]
  },
  {
   "cell_type": "code",
   "execution_count": null,
   "metadata": {},
   "outputs": [],
   "source": [
    "# Leo y visualizo df_victimas  con la información original\n",
    "\n",
    "df_victimas = pd.read_csv('victimas.csv', sep=';')\n",
    "df_victimas "
   ]
  },
  {
   "cell_type": "code",
   "execution_count": null,
   "metadata": {},
   "outputs": [],
   "source": [
    "df_victimas.info()\n",
    "# Se puede verificar que son 9 filas, es decir que sumadas serán 29 filas, se utilizará este numero para la configuración de tamaño"
   ]
  },
  {
   "cell_type": "code",
   "execution_count": null,
   "metadata": {},
   "outputs": [],
   "source": [
    "# Cambio el nombre de la columna ID_hechos para poder hacel el join con la informacion víctimas\n",
    "\n",
    "df_victimas.rename(columns={'ID_hecho': 'ID'}, inplace=True)\n",
    "df_victimas\n"
   ]
  },
  {
   "cell_type": "code",
   "execution_count": null,
   "metadata": {},
   "outputs": [],
   "source": [
    "# Unifico y visualizo los dos df anteriores para hacer las transformaciones necesarias y poder mejorar la información\n",
    " \n",
    "df_siniestros = pd.merge(df_hechos, df_victimas, on='ID', how='inner')\n",
    "df_siniestros"
   ]
  },
  {
   "cell_type": "code",
   "execution_count": null,
   "metadata": {},
   "outputs": [],
   "source": [
    "df_siniestros.info()\n",
    "# Se pueden ver 29 filas, lo que asegura que en este dataframe quedó la totalidad de la información"
   ]
  },
  {
   "cell_type": "markdown",
   "metadata": {},
   "source": [
    "Si bien la idea es dejar toda la información en una base de datos, se puede mejorar la presentación pues hay mucha información repetida que se puede dejar en una sola columna con el mismo formato tal como el año, así que iré columna por columna para entender y modificar su forma."
   ]
  },
  {
   "cell_type": "code",
   "execution_count": null,
   "metadata": {},
   "outputs": [],
   "source": [
    "#Identifico el tipo de columnas (ID) para poder comparar registro y encontrar posteriormente duplicados\n",
    "\n",
    "tipos_columna_ID = df_siniestros.dtypes\n",
    "print(tipos_columna_ID)"
   ]
  },
  {
   "cell_type": "code",
   "execution_count": 97,
   "metadata": {},
   "outputs": [],
   "source": [
    "# Dado que el tipo de la columna ID es objeto primero convertiré en strn para poder extraer los ultimos 4 digitor referentes al indicador\n",
    "\n",
    "df_siniestros['ID'] = df_siniestros['ID'].astype(str)"
   ]
  },
  {
   "cell_type": "code",
   "execution_count": null,
   "metadata": {},
   "outputs": [],
   "source": [
    "# Ahora si extraeré los ultimos 4 dígitos en una nueva columna \"IDENTIFICADOR\"\n",
    "\n",
    "df_siniestros['IDENTIFICADOR'] = df_siniestros['ID'].astype(str).str[-4:]\n",
    "df_siniestros\n"
   ]
  },
  {
   "cell_type": "code",
   "execution_count": null,
   "metadata": {},
   "outputs": [],
   "source": [
    "# Dejo la ultima columna de primeras pues por ser el identificador es el mas importante para la organización de los datos\n",
    "\n",
    "# Cambiar la ubicación de la columna 'C' a la primera posición\n",
    "\n",
    "df_siniestros = df_siniestros[[\"IDENTIFICADOR\"] + [col for col in df_siniestros.columns if col != \"IDENTIFICADOR\"]]\n",
    "df_siniestros"
   ]
  },
  {
   "cell_type": "code",
   "execution_count": 18,
   "metadata": {},
   "outputs": [
    {
     "data": {
      "text/plain": [
       "(30108, 31)"
      ]
     },
     "execution_count": 18,
     "metadata": {},
     "output_type": "execute_result"
    }
   ],
   "source": [
    "# Tamaño de dataframe\n",
    "df_siniestros.shape"
   ]
  },
  {
   "cell_type": "markdown",
   "metadata": {},
   "source": [
    "Los siguietes analisis columna por columna para el EDA serán:\n",
    "\n",
    "\n",
    "* Fecha siniestro: esta la columna FECHA_xx tiene formato correcto y completo, y la información es necesaria\n",
    "* La Columna AAAA_xx que se refiere al año se podrá  extraer en PowerBI después, así que prefiero borrarle, así mismo pasará con  MM_x (8mes) y dd_x (día), por lo que las borraré\n",
    "* La columna Hora tiene  con un formato correcto y es información relevante, posterior cambiaré todos los títulos\n",
    "* La columna HH se refiere a la franja horaria, lo cual no tiene mucho sentido con tantos números, será inteligente\n",
    "dejar la columna como franja horaria  pero dejar solo 3 franjas horarias: mañana, tade y noche o depronto solo AM y PM\n",
    "* LUGAR_DEL_HECHO: dirección del hecho, strn, lo dejaré pero lo más posible es que no se use pues será mas apropiado las coordenadas para poder ubicar en PBI. La idea de tener la dirección del hecho es poder ubicarlo en el mapa, sinembargo la forma mas facil de ubicacion en PBI son las \n",
    "coordenadas, se podrá revisar por barrios pero la dirección no sirve de mucho, así que se podrá borrar\n",
    "* TIPO_DE_CALLE: Tenendo las coordenadas, esta información es irrelevante por lo anterior la borraré\n",
    "* ACUSADO. Es una información importante pues rendirá cuenta de que tipo de acusado suele tener mas culpabilidad, \n",
    "* VICTIMA: En los dos dataframe hay columnas víctimas y en las dos se refieren al vehículo que opcupaba la víctima; Así que borro una de las columnas víctima y dejo una única columna llamada VICTIMA\n",
    "* FECHA_x,AAAA_x,MM_x,DD_x\tDecido borrar esta columna después de verificar que es exactamente la misma información que la columna FECHA_x desagregada, esa desagregación se puede hacer directamente PBI\n",
    "* La columna XY(CABA), se refiere a la geocodificacion plana, Se tienen las coordenadas por lo que esta información es irrelevante por lo dejaré y si es necesaria la utilizaré en la visualización\n",
    "POS\n",
    "* pos x\tpos y: Esta es una información muy importante y se refiere a la longitud y latitud en el formato correcto en el que PBI lo ubica, así que cambaré el nombre de las columnas en ese sentido \n"
   ]
  },
  {
   "cell_type": "code",
   "execution_count": null,
   "metadata": {},
   "outputs": [],
   "source": [
    "# Borro columnas analizadas en el aparte anterior: FECHA_x,AAAA_x,MM_x,DD_x\n",
    "\n",
    "columnas_a_eliminar = ['FECHA_y','AAAA_y', 'MM_y','DD_y', 'LUGAR_DEL_HECHO', 'TIPO_DE_CALLE', 'Altura', 'AAAA_x', 'MM_x','DD_x', 'VICTIMA_y', 'HH']\n",
    "df_siniestros = df_siniestros.drop(columns=columnas_a_eliminar, axis=1)\n",
    "df_siniestros"
   ]
  },
  {
   "cell_type": "code",
   "execution_count": 20,
   "metadata": {},
   "outputs": [],
   "source": [
    "# Cambio el nombre de las columna Fecha_x por FECHA\n",
    "\n",
    "df_siniestros.rename(columns={'pos x'\t: 'LATITUD'}, inplace=True)\n",
    "df_siniestros.rename(columns={'pos y'\t: 'LONGITUD'}, inplace=True)"
   ]
  },
  {
   "cell_type": "code",
   "execution_count": 21,
   "metadata": {},
   "outputs": [],
   "source": [
    "#Cambio el nombre de la columna 'FECHA_x' por 'FECHA'\n",
    "df_siniestros.rename(columns={'FECHA_x'\t: 'FECHA'}, inplace=True)"
   ]
  },
  {
   "cell_type": "code",
   "execution_count": null,
   "metadata": {},
   "outputs": [],
   "source": [
    "# Renombro la columna N_VICTIMAS por No_VICTIMAS\n",
    "\n",
    "df_siniestros.rename(columns={'N_VICTIMAS': 'No_VICTIMAS'}, inplace=True)\n",
    "df_siniestros"
   ]
  },
  {
   "cell_type": "code",
   "execution_count": null,
   "metadata": {},
   "outputs": [],
   "source": [
    "# Cambio el nombre de la columna FECHA_x por FECHA\n",
    "df_siniestros.rename(columns={'FECHA_X': 'FECHA_HECHO'}, inplace=True)\n",
    "df_siniestros"
   ]
  },
  {
   "cell_type": "code",
   "execution_count": null,
   "metadata": {},
   "outputs": [],
   "source": [
    "# Cambio el nombre de la columna FECHA_x por FECHA\n",
    "df_siniestros.rename(columns={'FECHA_X': 'FECHA_HECHO'}, inplace=True)\n",
    "df_siniestros"
   ]
  },
  {
   "cell_type": "code",
   "execution_count": null,
   "metadata": {},
   "outputs": [],
   "source": [
    "# Cambio el nombre de la columna Calle por CALLE con el fin de estandarizar los títulos\n",
    "df_siniestros.rename(columns={'Calle': 'CALLE'}, inplace=True)\n",
    "\n",
    "# Cambio el nombre de la columna Cruce por CRUCE con el fin de estandarizar los títulos\n",
    "df_siniestros.rename(columns={'Cruce': 'CRUCE'}, inplace=True)\n",
    "\n",
    "# Cambio el nombre de la columna Direcci�n Normalizada por CRUCE con el fin de estandarizar los títulos\n",
    "df_siniestros.rename(columns={'Direcci�n Normalizada': 'DIRECCIÓN'}, inplace=True)\n",
    "\n",
    "# Cambio el nombre de la columna Direcci�n Normalizada por CRUCE con el fin de estandarizar los títulos\n",
    "df_siniestros.rename(columns={'VICTIMA_x': 'VICTIMA'}, inplace=True)\n",
    "\n",
    "df_siniestros\n"
   ]
  },
  {
   "cell_type": "code",
   "execution_count": null,
   "metadata": {},
   "outputs": [],
   "source": [
    "df_siniestros.info()"
   ]
  },
  {
   "cell_type": "markdown",
   "metadata": {},
   "source": [
    "Ahora, se cerará una base de datos de MySQL a partir de este DataFrame de Pandas, las librerias se instalaron en el inicio del código"
   ]
  },
  {
   "cell_type": "code",
   "execution_count": 27,
   "metadata": {},
   "outputs": [],
   "source": [
    "# Guardar la tabla en excel pues no son muchos datos, ya que MySQL no \n",
    "# veo como puede agregar valor dado que no veo las relaciones mas alla de la información\n",
    "# Si tengo mas tiempo hago la conexión a MySQL\n",
    "\n",
    "df_siniestros.to_excel('df_siniestros.xlsx', index=False) \n"
   ]
  }
 ],
 "metadata": {
  "kernelspec": {
   "display_name": "Python 3",
   "language": "python",
   "name": "python3"
  },
  "language_info": {
   "codemirror_mode": {
    "name": "ipython",
    "version": 3
   },
   "file_extension": ".py",
   "mimetype": "text/x-python",
   "name": "python",
   "nbconvert_exporter": "python",
   "pygments_lexer": "ipython3",
   "version": "3.12.1"
  }
 },
 "nbformat": 4,
 "nbformat_minor": 2
}
